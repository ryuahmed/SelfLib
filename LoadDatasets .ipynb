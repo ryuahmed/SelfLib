{
 "cells": [
  {
   "cell_type": "code",
   "execution_count": 1,
   "metadata": {},
   "outputs": [],
   "source": [
    "#Library you need for this function\n",
    "import csv\n",
    "import os\n",
    "\n",
    "\n",
    "def LoadDataset ( Path , Extension , SingleFile ) :\n",
    "    Datasets = []\n",
    "    FileName = []\n",
    "    if SingleFile : \n",
    "        FileName.append(Path + Extension )\n",
    "        Path = ''\n",
    "    else : \n",
    "        for File in os.listdir(os.path.dirname(Path)):\n",
    "            if File.endswith(Extension):\n",
    "                FileName.append(File) \n",
    "    #Use this to check Correct file is added or not\n",
    "    #print(FileName)\n",
    "    if Extension == \".csv\" :\n",
    "        for EachFileName in FileName : \n",
    "            Dataset = []\n",
    "            with open(Path + EachFileName , 'r') as File:\n",
    "                Reader = csv.reader(File)\n",
    "                for EachRow in Reader:\n",
    "                    Dataset.append(EachRow)\n",
    "            Datasets.append(Dataset)\n",
    "    if len(Datasets) == 1 :\n",
    "        Datasets = Datasets[0]\n",
    "    return Datasets , FileName "
   ]
  }
 ],
 "metadata": {
  "kernelspec": {
   "display_name": "Python 3",
   "language": "python",
   "name": "python3"
  },
  "language_info": {
   "codemirror_mode": {
    "name": "ipython",
    "version": 3
   },
   "file_extension": ".py",
   "mimetype": "text/x-python",
   "name": "python",
   "nbconvert_exporter": "python",
   "pygments_lexer": "ipython3",
   "version": "3.8.3"
  }
 },
 "nbformat": 4,
 "nbformat_minor": 4
}
